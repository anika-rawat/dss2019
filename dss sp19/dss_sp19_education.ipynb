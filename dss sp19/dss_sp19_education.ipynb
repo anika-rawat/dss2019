{
 "cells": [
  {
   "cell_type": "code",
   "execution_count": 1,
   "metadata": {},
   "outputs": [],
   "source": [
    "import numpy as np\n",
    "import pandas as pd\n",
    "import seaborn as sns\n",
    "import matplotlib.pyplot as plt \n",
    "%matplotlib inline"
   ]
  },
  {
   "cell_type": "code",
   "execution_count": 2,
   "metadata": {},
   "outputs": [],
   "source": [
    "pd.options.display.max_rows = 4000\n",
    "pd.options.display.max_seq_items = 2000\n",
    "pd.set_option('display.max_colwidth', -1)"
   ]
  },
  {
   "cell_type": "code",
   "execution_count": 3,
   "metadata": {},
   "outputs": [],
   "source": [
    "ed_country = pd.read_csv(\"~\\Desktop\\dss_sp19\\EdStatsCountry.csv\")"
   ]
  },
  {
   "cell_type": "code",
   "execution_count": 4,
   "metadata": {},
   "outputs": [],
   "source": [
    "ed_data = pd.read_csv(\"~\\Desktop\\dss_sp19\\EdStatsData.csv\")"
   ]
  },
  {
   "cell_type": "code",
   "execution_count": 5,
   "metadata": {},
   "outputs": [
    {
     "data": {
      "text/plain": [
       "Region\n",
       "East Asia & Pacific           36\n",
       "Europe & Central Asia         57\n",
       "Latin America & Caribbean     41\n",
       "Middle East & North Africa    21\n",
       "North America                 3 \n",
       "South Asia                    8 \n",
       "Sub-Saharan Africa            48\n",
       "dtype: int64"
      ]
     },
     "execution_count": 5,
     "metadata": {},
     "output_type": "execute_result"
    }
   ],
   "source": [
    "region_count = ed_country.groupby(\"Region\").size()\n",
    "region_count"
   ]
  },
  {
   "cell_type": "code",
   "execution_count": 6,
   "metadata": {},
   "outputs": [],
   "source": [
    "by_region = ed_country.sort_values(\"Region\")[[\"Country Code\", \"Short Name\", \"Region\", \"Income Group\"]]\n",
    "only_east_asia = by_region[by_region[\"Region\"] == \"East Asia & Pacific\"]"
   ]
  },
  {
   "cell_type": "code",
   "execution_count": 7,
   "metadata": {},
   "outputs": [
    {
     "data": {
      "text/html": [
       "<div>\n",
       "<style scoped>\n",
       "    .dataframe tbody tr th:only-of-type {\n",
       "        vertical-align: middle;\n",
       "    }\n",
       "\n",
       "    .dataframe tbody tr th {\n",
       "        vertical-align: top;\n",
       "    }\n",
       "\n",
       "    .dataframe thead th {\n",
       "        text-align: right;\n",
       "    }\n",
       "</style>\n",
       "<table border=\"1\" class=\"dataframe\">\n",
       "  <thead>\n",
       "    <tr style=\"text-align: right;\">\n",
       "      <th></th>\n",
       "      <th>Country Name</th>\n",
       "      <th>Country Code</th>\n",
       "      <th>Indicator Name</th>\n",
       "      <th>Indicator Code</th>\n",
       "      <th>1970</th>\n",
       "      <th>1971</th>\n",
       "      <th>1972</th>\n",
       "      <th>1973</th>\n",
       "      <th>1974</th>\n",
       "      <th>1975</th>\n",
       "      <th>...</th>\n",
       "      <th>2008</th>\n",
       "      <th>2009</th>\n",
       "      <th>2010</th>\n",
       "      <th>2011</th>\n",
       "      <th>2012</th>\n",
       "      <th>2013</th>\n",
       "      <th>2014</th>\n",
       "      <th>2015</th>\n",
       "      <th>2016</th>\n",
       "      <th>2017</th>\n",
       "    </tr>\n",
       "  </thead>\n",
       "  <tbody>\n",
       "    <tr>\n",
       "      <th>0</th>\n",
       "      <td>Arab World</td>\n",
       "      <td>ARB</td>\n",
       "      <td>Adjusted net enrolment rate, lower secondary, both sexes (%)</td>\n",
       "      <td>UIS.NERA.2</td>\n",
       "      <td>NaN</td>\n",
       "      <td>NaN</td>\n",
       "      <td>NaN</td>\n",
       "      <td>NaN</td>\n",
       "      <td>NaN</td>\n",
       "      <td>NaN</td>\n",
       "      <td>...</td>\n",
       "      <td>NaN</td>\n",
       "      <td>NaN</td>\n",
       "      <td>NaN</td>\n",
       "      <td>NaN</td>\n",
       "      <td>NaN</td>\n",
       "      <td>NaN</td>\n",
       "      <td>NaN</td>\n",
       "      <td>NaN</td>\n",
       "      <td>NaN</td>\n",
       "      <td>NaN</td>\n",
       "    </tr>\n",
       "    <tr>\n",
       "      <th>1</th>\n",
       "      <td>Arab World</td>\n",
       "      <td>ARB</td>\n",
       "      <td>Adjusted net enrolment rate, lower secondary, female (%)</td>\n",
       "      <td>UIS.NERA.2.F</td>\n",
       "      <td>NaN</td>\n",
       "      <td>NaN</td>\n",
       "      <td>NaN</td>\n",
       "      <td>NaN</td>\n",
       "      <td>NaN</td>\n",
       "      <td>NaN</td>\n",
       "      <td>...</td>\n",
       "      <td>NaN</td>\n",
       "      <td>NaN</td>\n",
       "      <td>NaN</td>\n",
       "      <td>NaN</td>\n",
       "      <td>NaN</td>\n",
       "      <td>NaN</td>\n",
       "      <td>NaN</td>\n",
       "      <td>NaN</td>\n",
       "      <td>NaN</td>\n",
       "      <td>NaN</td>\n",
       "    </tr>\n",
       "    <tr>\n",
       "      <th>2</th>\n",
       "      <td>Arab World</td>\n",
       "      <td>ARB</td>\n",
       "      <td>Adjusted net enrolment rate, lower secondary, gender parity index (GPI)</td>\n",
       "      <td>UIS.NERA.2.GPI</td>\n",
       "      <td>NaN</td>\n",
       "      <td>NaN</td>\n",
       "      <td>NaN</td>\n",
       "      <td>NaN</td>\n",
       "      <td>NaN</td>\n",
       "      <td>NaN</td>\n",
       "      <td>...</td>\n",
       "      <td>NaN</td>\n",
       "      <td>NaN</td>\n",
       "      <td>NaN</td>\n",
       "      <td>NaN</td>\n",
       "      <td>NaN</td>\n",
       "      <td>NaN</td>\n",
       "      <td>NaN</td>\n",
       "      <td>NaN</td>\n",
       "      <td>NaN</td>\n",
       "      <td>NaN</td>\n",
       "    </tr>\n",
       "    <tr>\n",
       "      <th>3</th>\n",
       "      <td>Arab World</td>\n",
       "      <td>ARB</td>\n",
       "      <td>Adjusted net enrolment rate, lower secondary, male (%)</td>\n",
       "      <td>UIS.NERA.2.M</td>\n",
       "      <td>NaN</td>\n",
       "      <td>NaN</td>\n",
       "      <td>NaN</td>\n",
       "      <td>NaN</td>\n",
       "      <td>NaN</td>\n",
       "      <td>NaN</td>\n",
       "      <td>...</td>\n",
       "      <td>NaN</td>\n",
       "      <td>NaN</td>\n",
       "      <td>NaN</td>\n",
       "      <td>NaN</td>\n",
       "      <td>NaN</td>\n",
       "      <td>NaN</td>\n",
       "      <td>NaN</td>\n",
       "      <td>NaN</td>\n",
       "      <td>NaN</td>\n",
       "      <td>NaN</td>\n",
       "    </tr>\n",
       "    <tr>\n",
       "      <th>4</th>\n",
       "      <td>Arab World</td>\n",
       "      <td>ARB</td>\n",
       "      <td>Adjusted net enrolment rate, primary, both sexes (%)</td>\n",
       "      <td>SE.PRM.TENR</td>\n",
       "      <td>54.822121</td>\n",
       "      <td>54.894138</td>\n",
       "      <td>56.209438</td>\n",
       "      <td>57.267109</td>\n",
       "      <td>57.991138</td>\n",
       "      <td>59.36554</td>\n",
       "      <td>...</td>\n",
       "      <td>84.011871</td>\n",
       "      <td>84.195961</td>\n",
       "      <td>85.211998</td>\n",
       "      <td>85.24514</td>\n",
       "      <td>86.101669</td>\n",
       "      <td>85.51194</td>\n",
       "      <td>85.320152</td>\n",
       "      <td>NaN</td>\n",
       "      <td>NaN</td>\n",
       "      <td>NaN</td>\n",
       "    </tr>\n",
       "  </tbody>\n",
       "</table>\n",
       "<p>5 rows × 52 columns</p>\n",
       "</div>"
      ],
      "text/plain": [
       "  Country Name Country Code  \\\n",
       "0  Arab World   ARB           \n",
       "1  Arab World   ARB           \n",
       "2  Arab World   ARB           \n",
       "3  Arab World   ARB           \n",
       "4  Arab World   ARB           \n",
       "\n",
       "                                                            Indicator Name  \\\n",
       "0  Adjusted net enrolment rate, lower secondary, both sexes (%)              \n",
       "1  Adjusted net enrolment rate, lower secondary, female (%)                  \n",
       "2  Adjusted net enrolment rate, lower secondary, gender parity index (GPI)   \n",
       "3  Adjusted net enrolment rate, lower secondary, male (%)                    \n",
       "4  Adjusted net enrolment rate, primary, both sexes (%)                      \n",
       "\n",
       "   Indicator Code       1970       1971       1972       1973       1974  \\\n",
       "0  UIS.NERA.2     NaN        NaN        NaN        NaN        NaN          \n",
       "1  UIS.NERA.2.F   NaN        NaN        NaN        NaN        NaN          \n",
       "2  UIS.NERA.2.GPI NaN        NaN        NaN        NaN        NaN          \n",
       "3  UIS.NERA.2.M   NaN        NaN        NaN        NaN        NaN          \n",
       "4  SE.PRM.TENR     54.822121  54.894138  56.209438  57.267109  57.991138   \n",
       "\n",
       "       1975  ...        2008       2009       2010      2011       2012  \\\n",
       "0 NaN        ...  NaN        NaN        NaN        NaN       NaN          \n",
       "1 NaN        ...  NaN        NaN        NaN        NaN       NaN          \n",
       "2 NaN        ...  NaN        NaN        NaN        NaN       NaN          \n",
       "3 NaN        ...  NaN        NaN        NaN        NaN       NaN          \n",
       "4  59.36554  ...   84.011871  84.195961  85.211998  85.24514  86.101669   \n",
       "\n",
       "       2013       2014  2015  2016  2017  \n",
       "0 NaN       NaN        NaN   NaN   NaN    \n",
       "1 NaN       NaN        NaN   NaN   NaN    \n",
       "2 NaN       NaN        NaN   NaN   NaN    \n",
       "3 NaN       NaN        NaN   NaN   NaN    \n",
       "4  85.51194  85.320152 NaN   NaN   NaN    \n",
       "\n",
       "[5 rows x 52 columns]"
      ]
     },
     "execution_count": 7,
     "metadata": {},
     "output_type": "execute_result"
    }
   ],
   "source": [
    "countries_to_2017 = ed_data.iloc[:, :52] #table went all the way to 2100, so I took out the years that have not occurred yet\n",
    "countries_to_2017.head()"
   ]
  },
  {
   "cell_type": "code",
   "execution_count": 8,
   "metadata": {},
   "outputs": [],
   "source": [
    "us_data = countries_to_2017[countries_to_2017['Country Code'] == 'USA']\n",
    "us_data = us_data.drop(columns=[\"Country Name\", \"Country Code\", \"Indicator Code\"]) #without \"U.S.\" label\n",
    "us_row_counts = us_data.apply(lambda x: x.count(), axis=1) #number of data points in row\n",
    "us_data['Row Count'] = us_row_counts\n",
    "us_data = us_data[us_data['Row Count'] > 40] #rows with more than 40 data points"
   ]
  },
  {
   "cell_type": "code",
   "execution_count": 9,
   "metadata": {},
   "outputs": [],
   "source": [
    "china_data = countries_to_2017[countries_to_2017['Country Code'] == 'CHN']\n",
    "china_data = china_data.drop(columns=[\"Country Name\", \"Country Code\", \"Indicator Code\"]) #without \"China\" label\n",
    "china_row_counts = china_data.apply(lambda x: x.count(), axis=1)\n",
    "china_data['Row Count'] = china_row_counts\n",
    "china_data = china_data[china_data['Row Count'] > 40]\n",
    "china_data_w_row_count = china_data #with row count\n",
    "china_data = china_data.drop(columns=[\"Row Count\"]) #dropped row count column"
   ]
  },
  {
   "cell_type": "code",
   "execution_count": 10,
   "metadata": {},
   "outputs": [],
   "source": [
    "china_primary_enroll = china_data[china_data['Indicator Name'] == 'Enrolment in primary education, both sexes (number)'].transpose()\n",
    "#transposed to make the rows years\n",
    "\n",
    "china_primary_enroll = china_primary_enroll.rename(columns={243073: \"Enrollment in primary education, both sexes (number)\"})\n",
    "#renamed column\n",
    "\n",
    "china_primary_enroll = china_primary_enroll.drop([\"Indicator Name\"])\n",
    "#dropped row with indicator name"
   ]
  },
  {
   "cell_type": "code",
   "execution_count": 11,
   "metadata": {},
   "outputs": [],
   "source": [
    "china_secondary_enroll = china_data[china_data['Indicator Name'] == 'Enrolment in secondary education, both sexes (number)'].transpose()\n",
    "china_secondary_enroll = china_secondary_enroll.rename(columns={243081: \"Enrollment in secondary education, both sexes (number)\"})\n",
    "china_secondary_enroll = china_secondary_enroll.drop([\"Indicator Name\"])"
   ]
  },
  {
   "cell_type": "code",
   "execution_count": 12,
   "metadata": {},
   "outputs": [],
   "source": [
    "china_tertiary_enroll = china_data[china_data['Indicator Name'] == 'Enrolment in tertiary education, all programmes, both sexes (number)'].transpose()\n",
    "china_tertiary_enroll = china_tertiary_enroll.rename(columns={243094: \"Enrollment in tertiary education, all programmes, both sexes (number)\"})\n",
    "china_tertiary_enroll = china_tertiary_enroll.drop([\"Indicator Name\"])"
   ]
  },
  {
   "cell_type": "code",
   "execution_count": 13,
   "metadata": {},
   "outputs": [],
   "source": [
    "china_primary_secondary = china_primary_enroll.merge(china_secondary_enroll, left_index=True, right_index=True)\n",
    "china_enroll_all_levels = china_primary_secondary.merge(china_tertiary_enroll, left_index=True, right_index=True)"
   ]
  },
  {
   "cell_type": "code",
   "execution_count": 14,
   "metadata": {},
   "outputs": [],
   "source": [
    "china_gdp_per_capita = china_data[china_data['Indicator Name'] == 'GDP per capita (current US$)'].transpose()\n",
    "china_gdp_per_capita = china_gdp_per_capita.rename(columns={243135: \"GDP per capita (current US$)\"})\n",
    "china_gdp_per_capita = china_gdp_per_capita.drop([\"Indicator Name\"])"
   ]
  },
  {
   "cell_type": "code",
   "execution_count": 15,
   "metadata": {},
   "outputs": [
    {
     "data": {
      "text/html": [
       "<div>\n",
       "<style scoped>\n",
       "    .dataframe tbody tr th:only-of-type {\n",
       "        vertical-align: middle;\n",
       "    }\n",
       "\n",
       "    .dataframe tbody tr th {\n",
       "        vertical-align: top;\n",
       "    }\n",
       "\n",
       "    .dataframe thead th {\n",
       "        text-align: right;\n",
       "    }\n",
       "</style>\n",
       "<table border=\"1\" class=\"dataframe\">\n",
       "  <thead>\n",
       "    <tr style=\"text-align: right;\">\n",
       "      <th></th>\n",
       "      <th>Year</th>\n",
       "      <th>GDP per capita (current US$)</th>\n",
       "      <th>Enrollment in primary education, both sexes (number)</th>\n",
       "      <th>Enrollment in secondary education, both sexes (number)</th>\n",
       "      <th>Enrollment in tertiary education, all programmes, both sexes (number)</th>\n",
       "    </tr>\n",
       "  </thead>\n",
       "  <tbody>\n",
       "    <tr>\n",
       "      <th>1970</th>\n",
       "      <td>1970</td>\n",
       "      <td>113.163</td>\n",
       "      <td>1.00668e+08</td>\n",
       "      <td>2.02534e+07</td>\n",
       "      <td>108617</td>\n",
       "    </tr>\n",
       "    <tr>\n",
       "      <th>1973</th>\n",
       "      <td>1973</td>\n",
       "      <td>157.09</td>\n",
       "      <td>1.25492e+08</td>\n",
       "      <td>3.61669e+07</td>\n",
       "      <td>193719</td>\n",
       "    </tr>\n",
       "    <tr>\n",
       "      <th>1974</th>\n",
       "      <td>1974</td>\n",
       "      <td>160.14</td>\n",
       "      <td>1.35704e+08</td>\n",
       "      <td>3.49468e+07</td>\n",
       "      <td>313645</td>\n",
       "    </tr>\n",
       "    <tr>\n",
       "      <th>1975</th>\n",
       "      <td>1975</td>\n",
       "      <td>178.342</td>\n",
       "      <td>1.44814e+08</td>\n",
       "      <td>3.71379e+07</td>\n",
       "      <td>429981</td>\n",
       "    </tr>\n",
       "    <tr>\n",
       "      <th>1976</th>\n",
       "      <td>1976</td>\n",
       "      <td>165.406</td>\n",
       "      <td>1.50941e+08</td>\n",
       "      <td>4.53684e+07</td>\n",
       "      <td>500993</td>\n",
       "    </tr>\n",
       "  </tbody>\n",
       "</table>\n",
       "</div>"
      ],
      "text/plain": [
       "      Year GDP per capita (current US$)  \\\n",
       "1970  1970  113.163                       \n",
       "1973  1973  157.09                        \n",
       "1974  1974  160.14                        \n",
       "1975  1975  178.342                       \n",
       "1976  1976  165.406                       \n",
       "\n",
       "     Enrollment in primary education, both sexes (number)  \\\n",
       "1970  1.00668e+08                                           \n",
       "1973  1.25492e+08                                           \n",
       "1974  1.35704e+08                                           \n",
       "1975  1.44814e+08                                           \n",
       "1976  1.50941e+08                                           \n",
       "\n",
       "     Enrollment in secondary education, both sexes (number)  \\\n",
       "1970  2.02534e+07                                             \n",
       "1973  3.61669e+07                                             \n",
       "1974  3.49468e+07                                             \n",
       "1975  3.71379e+07                                             \n",
       "1976  4.53684e+07                                             \n",
       "\n",
       "     Enrollment in tertiary education, all programmes, both sexes (number)  \n",
       "1970  108617                                                                \n",
       "1973  193719                                                                \n",
       "1974  313645                                                                \n",
       "1975  429981                                                                \n",
       "1976  500993                                                                "
      ]
     },
     "execution_count": 15,
     "metadata": {},
     "output_type": "execute_result"
    }
   ],
   "source": [
    "china_enrollment_and_gdp = china_gdp_per_capita.merge(china_enroll_all_levels, left_index=True, right_index=True)\n",
    "china_enrollment_and_gdp = china_enrollment_and_gdp.dropna(axis=0, how=\"any\") #no nan\n",
    "china_enrollment_and_gdp[\"Year\"] = china_enrollment_and_gdp.index #made year into a column instead of the indices\n",
    "china_enrollment_and_gdp = china_enrollment_and_gdp[[\"Year\", \n",
    "                          \"GDP per capita (current US$)\", \n",
    "                          \"Enrollment in primary education, both sexes (number)\", \n",
    "                          \"Enrollment in secondary education, both sexes (number)\", \n",
    "                          \"Enrollment in tertiary education, all programmes, both sexes (number)\"]] #made Year column first\n",
    "china_enrollment_and_gdp.head()"
   ]
  },
  {
   "cell_type": "code",
   "execution_count": 57,
   "metadata": {},
   "outputs": [
    {
     "data": {
      "text/plain": [
       "([<matplotlib.axis.XTick at 0x15e9f7c16a0>,\n",
       "  <matplotlib.axis.XTick at 0x15e9f7b6240>,\n",
       "  <matplotlib.axis.XTick at 0x15e9f7b6400>,\n",
       "  <matplotlib.axis.XTick at 0x15e9f7e56a0>,\n",
       "  <matplotlib.axis.XTick at 0x15e9f7f1588>,\n",
       "  <matplotlib.axis.XTick at 0x15e9f7f1a90>,\n",
       "  <matplotlib.axis.XTick at 0x15e9f7f1e80>,\n",
       "  <matplotlib.axis.XTick at 0x15e9f7f94e0>,\n",
       "  <matplotlib.axis.XTick at 0x15e9f7f99e8>,\n",
       "  <matplotlib.axis.XTick at 0x15e9f7f9ef0>,\n",
       "  <matplotlib.axis.XTick at 0x15e9f7b62e8>],\n",
       " <a list of 10 Text xticklabel objects>)"
      ]
     },
     "execution_count": 57,
     "metadata": {},
     "output_type": "execute_result"
    },
    {
     "data": {
      "image/png": "[encoded data removed]",
      "text/plain": [
       "<Figure size 864x504 with 1 Axes>"
      ]
     },
     "metadata": {
      "needs_background": "light"
     },
     "output_type": "display_data"
    }
   ],
   "source": [
    "enrollment_x_labels = [\"1970\", \"1975\", \"1980\", \"1985\", \"1990\", \"1995\", \"2000\", \"2005\", \"2010\", \"2015\"]\n",
    "only_china_enrollment = china_enrollment_and_gdp.drop(columns=[\"GDP per capita (current US$)\"])\n",
    "only_china_enrollment.plot(\"Year\", figsize=(12,7))\n",
    "plt.ylabel(\"Enrollment\")\n",
    "plt.xlabel(\"Year\")\n",
    "plt.legend(loc=\"upper right\")\n",
    "plt.xticks([0, 4, 8, 12, 16, 20, 24, 28, 32, 36, 40], labels=enrollment_x_labels)"
   ]
  },
  {
   "cell_type": "code",
   "execution_count": null,
   "metadata": {},
   "outputs": [],
   "source": []
  },
  {
   "cell_type": "code",
   "execution_count": null,
   "metadata": {},
   "outputs": [],
   "source": []
  }
 ],
 "metadata": {
  "kernelspec": {
   "display_name": "Python 3",
   "language": "python",
   "name": "python3"
  },
  "language_info": {
   "codemirror_mode": {
    "name": "ipython",
    "version": 3
   },
   "file_extension": ".py",
   "mimetype": "text/x-python",
   "name": "python",
   "nbconvert_exporter": "python",
   "pygments_lexer": "ipython3",
   "version": "3.7.1"
  }
 },
 "nbformat": 4,
 "nbformat_minor": 2
}
